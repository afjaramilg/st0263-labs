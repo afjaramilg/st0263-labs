﻿{
  "metadata": {
    "name": "Note converted from Jupyter_2G9XZFSYC",
    "kernelspec": {
      "language": "scala",
      "name": "spark2-scala"
    },
    "language_info": {
      "codemirror_mode": "text/x-scala",
      "file_extension": ".scala",
      "mimetype": "text/x-scala",
      "name": "scala",
      "pygments_lexer": "scala"
    }
  },
  "nbformat": 4,
  "nbformat_minor": 2,
  "cells": [
    {
      "cell_type": "raw",
      "metadata": {
        "format": "text/plain"
      },
      "source": "\n\n%pyspark\nfrom pyspark.sql import SparkSession"
    },
    {
      "cell_type": "raw",
      "metadata": {
        "format": "text/plain"
      },
      "source": "\n\n%pyspark\nspark\u003dSparkSession.builder.appName(\u0027lab3-punto2\u0027).getOrCreate()"
    },
    {
      "cell_type": "raw",
      "metadata": {
        "format": "text/plain"
      },
      "source": "\n\n%pyspark\ndf\u003dspark.read.csv(\u0027s3://lab3-afjaramilg/lab3-data/spark/Casos_positivos_de_COVID-19_en_Colombia.csv\u0027,inferSchema\u003dTrue,header\u003dTrue)"
    },
    {
      "cell_type": "raw",
      "metadata": {
        "format": "text/plain"
      },
      "source": "\n\n%pyspark\n# 2.1\n# nombres de columnas\nprint(df.columns,\"NUM\", len(df.columns))"
    },
    {
      "cell_type": "raw",
      "metadata": {
        "format": "text/plain"
      },
      "source": "\n\n%pyspark\n# numero de registros\ndf.count()"
    },
    {
      "cell_type": "raw",
      "metadata": {
        "format": "text/plain"
      },
      "source": "\n\n%pyspark\n# 2.2\n# tipos de datos\ndf.printSchema()"
    },
    {
      "cell_type": "raw",
      "metadata": {
        "format": "text/plain"
      },
      "source": "\n\n%pyspark\n# 2.3\ndf.select(\u0027Sexo\u0027,\u0027FIS\u0027).show(5)"
    },
    {
      "cell_type": "raw",
      "metadata": {
        "format": "text/plain"
      },
      "source": "\n\n%pyspark\nfrom pyspark.sql.functions import lit, when"
    },
    {
      "cell_type": "raw",
      "metadata": {
        "format": "text/plain"
      },
      "source": "\n\n%pyspark\n#2.4\n#agregar columna\ndf2\u003ddf.withColumn(\"columna1\", when(df[\u0027Sexo\u0027] \u003d\u003d \u0027M\u0027, lit(\u0027A\u0027)).otherwise(lit(\u0027B\u0027)))\ndf2.select(\u0027Sexo\u0027, \u0027columna1\u0027).show(5)\n\n# nombres de columnas\nprint(\"----------\")\nprint(df2.columns,\"NUM\", len(df2.columns))"
    },
    {
      "cell_type": "raw",
      "metadata": {
        "format": "text/plain"
      },
      "source": "\n\n%pyspark\n#2.5\n#borrar columna\ndf3\u003ddf.drop(\u0027Edad\u0027)\nprint(\"----------\")\nprint(df3.columns,\"NUM\", len(df3.columns))"
    },
    {
      "cell_type": "raw",
      "metadata": {
        "format": "text/plain"
      },
      "source": "\n\n%pyspark\n#2.6\n#filter\ndf4\u003ddf.filter(df[\u0027Sexo\u0027] \u003d\u003d \u0027M\u0027)\ndf4.show(5)"
    },
    {
      "cell_type": "raw",
      "metadata": {
        "format": "text/plain"
      },
      "source": "\n\n%pyspark\nprint(df.select(\u0027País de procedencia\u0027).distinct().count())"
    },
    {
      "cell_type": "raw",
      "metadata": {
        "format": "text/plain"
      },
      "source": "\n\n%pyspark\n# UDF\nfrom pyspark.sql.functions import udf\nfrom pyspark.sql.types import StringType,DoubleType,IntegerType, BooleanType\n"
    },
    {
      "cell_type": "raw",
      "metadata": {
        "format": "text/plain"
      },
      "source": "\n\n%pyspark\n# 2.7\ncolombiano_udf\u003dudf(lambda p: True if p \u003d\u003d \"Colombia\" else False, BooleanType())\ndf5\u003ddf.withColumn(\u0027colombiano\u0027, colombiano_udf(df[\u0027País de procedencia\u0027]))\ndf5.select(\u0027País de procedencia\u0027, \u0027colombiano\u0027).show(5)"
    },
    {
      "cell_type": "raw",
      "metadata": {
        "format": "text/plain"
      },
      "source": "\n\n%pyspark\nwrite_url\u003d\"s3://lab3-afjaramilg/lab3-data/punto3/\""
    },
    {
      "cell_type": "raw",
      "metadata": {
        "format": "text/plain"
      },
      "source": "\n\n%pyspark\n#3.1\ndf31\u003ddf.groupBy(\u0027Departamento o Distrito \u0027).count().orderBy(\u0027count\u0027,ascending\u003dFalse)\ndf31.show(5,False)\ndf31.coalesce(1).write.format(\"csv\").option(\"header\",\"true\").save(write_url + \"punto31\")\n"
    },
    {
      "cell_type": "raw",
      "metadata": {
        "format": "text/plain"
      },
      "source": "\n\n%pyspark\n#3.2\ndf32\u003ddf.groupBy(\u0027Ciudad de ubicación\u0027).count().orderBy(\u0027count\u0027,ascending\u003dFalse)\ndf32.show(5,False)\ndf32.coalesce(1).write.format(\"csv\").option(\"header\",\"true\").save(write_url + \"punto32\")\n"
    },
    {
      "cell_type": "raw",
      "metadata": {
        "format": "text/plain"
      },
      "source": "\n\n%pyspark\n#3.3\ndf33\u003ddf.groupBy(\u0027Fecha diagnostico\u0027).count().orderBy(\u0027count\u0027,ascending\u003dFalse)\ndf33.show(5,False)\ndf33.coalesce(1).write.format(\"csv\").option(\"header\",\"true\").save(write_url + \"punto33\")"
    },
    {
      "cell_type": "raw",
      "metadata": {
        "format": "text/plain"
      },
      "source": "\n\n%pyspark\n#3.4\ndef grupos_edades(n):\n    if n \u003c 20:\n        return \"Joven\"\n    elif n \u003c 60:\n        return \"Adulto\"\n    else:\n        return \"Anciano\"\n\nedad_udf\u003dudf(grupos_edades, StringType())\ndf34\u003ddf.withColumn(\u0027Grupo de Edad\u0027, edad_udf(df[\u0027Edad\u0027])).groupBy(\u0027Grupo de Edad\u0027).count().orderBy(\u0027count\u0027,ascending\u003dFalse)\ndf34.show(10)\ndf34.coalesce(1).write.format(\"csv\").option(\"header\",\"true\").save(write_url + \"punto34\")\n"
    },
    {
      "cell_type": "raw",
      "metadata": {
        "format": "text/plain"
      },
      "source": "\n\n%pyspark\n# 3.5\n# como es la distribucion entre hombres y mujeres?\nsexo_udf\u003dudf(lambda s: \"M\" if s \u003d\u003d \u0027M\u0027 or s \u003d\u003d \u0027m\u0027 else \u0027F\u0027, StringType()) \ndf35\u003ddf.withColumn(\u0027Sexo2\u0027, sexo_udf(df[\u0027Sexo\u0027])).groupBy(\u0027Sexo2\u0027).count().orderBy(\u0027count\u0027,ascending\u003dFalse)\ndf35.show(10)\ndf35.coalesce(1).write.format(\"csv\").option(\"header\",\"true\").save(write_url + \"punto35\")\n"
    }
  ]
}